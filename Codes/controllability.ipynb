{
 "cells": [
  {
   "cell_type": "markdown",
   "metadata": {},
   "source": [
    "# Part C: Controllability Check"
   ]
  },
  {
   "cell_type": "code",
   "execution_count": 1,
   "metadata": {},
   "outputs": [],
   "source": [
    "import sympy as sp"
   ]
  },
  {
   "cell_type": "code",
   "execution_count": 2,
   "metadata": {},
   "outputs": [
    {
     "name": "stdout",
     "output_type": "stream",
     "text": [
      "A: \n"
     ]
    },
    {
     "data": {
      "text/latex": [
       "$\\displaystyle \\left[\\begin{matrix}0 & 1 & 0 & 0 & 0 & 0\\\\0 & 0 & - \\frac{g m_{1}}{M} & 0 & - \\frac{g m_{2}}{M} & 0\\\\0 & 0 & 0 & 1 & 0 & 0\\\\0 & 0 & - \\frac{g \\left(M + m_{1}\\right)}{M l_{1}} & 0 & - \\frac{g m_{2}}{M l_{1}} & 0\\\\0 & 0 & 0 & 0 & 0 & 1\\\\0 & 0 & - \\frac{g m_{1}}{M l_{2}} & 0 & - \\frac{g \\left(M + m_{2}\\right)}{M l_{2}} & 0\\end{matrix}\\right]$"
      ],
      "text/plain": [
       "Matrix([\n",
       "[0, 1,                  0, 0,                  0, 0],\n",
       "[0, 0,            -g*m1/M, 0,            -g*m2/M, 0],\n",
       "[0, 0,                  0, 1,                  0, 0],\n",
       "[0, 0, -g*(M + m1)/(M*l1), 0,       -g*m2/(M*l1), 0],\n",
       "[0, 0,                  0, 0,                  0, 1],\n",
       "[0, 0,       -g*m1/(M*l2), 0, -g*(M + m2)/(M*l2), 0]])"
      ]
     },
     "execution_count": 2,
     "metadata": {},
     "output_type": "execute_result"
    }
   ],
   "source": [
    "# Define the symbolic variables\n",
    "M, m1, m2, l1, l2, g = sp.symbols('M m1 m2 l1 l2 g')\n",
    "\n",
    "# Defining the A matrix for the linearized state-space representation\n",
    "A = sp.Matrix([\n",
    "    [0, 1, 0, 0, 0, 0],\n",
    "    [0, 0, -(m1*g)/M, 0, -(m2*g)/M, 0],\n",
    "    [0, 0, 0, 1, 0, 0],\n",
    "    [0, 0, -((M+m1)*g)/(M*l1), 0, -(m2*g)/(M*l1), 0],\n",
    "    [0, 0, 0, 0, 0, 1],\n",
    "    [0, 0, -(m1*g)/(M*l2), 0, -(g*(M+m2))/(M*l2), 0]\n",
    "])\n",
    "print(\"A: \")\n",
    "A"
   ]
  },
  {
   "cell_type": "code",
   "execution_count": 3,
   "metadata": {},
   "outputs": [
    {
     "name": "stdout",
     "output_type": "stream",
     "text": [
      "B: \n"
     ]
    },
    {
     "data": {
      "text/latex": [
       "$\\displaystyle \\left[\\begin{matrix}0\\\\\\frac{1}{M}\\\\0\\\\\\frac{1}{M l_{1}}\\\\0\\\\\\frac{1}{M l_{2}}\\end{matrix}\\right]$"
      ],
      "text/plain": [
       "Matrix([\n",
       "[       0],\n",
       "[     1/M],\n",
       "[       0],\n",
       "[1/(M*l1)],\n",
       "[       0],\n",
       "[1/(M*l2)]])"
      ]
     },
     "execution_count": 3,
     "metadata": {},
     "output_type": "execute_result"
    }
   ],
   "source": [
    "# Defining the B matrix\n",
    "B = sp.Matrix([0, 1/M, 0, 1/(M*l1), 0, 1/(M*l2)]).reshape(6, 1)\n",
    "print(\"B: \")\n",
    "B"
   ]
  },
  {
   "cell_type": "code",
   "execution_count": 4,
   "metadata": {},
   "outputs": [
    {
     "name": "stdout",
     "output_type": "stream",
     "text": [
      "Controllability Matrix: \n"
     ]
    },
    {
     "data": {
      "text/latex": [
       "$\\displaystyle \\left[\\begin{matrix}0 & \\frac{1}{M} & 0 & - \\frac{g m_{2}}{M^{2} l_{2}} - \\frac{g m_{1}}{M^{2} l_{1}} & 0 & \\frac{M g^{2} l_{1} m_{2} + g^{2} l_{1} m_{2}^{2} + g^{2} l_{2} m_{1} m_{2}}{M^{3} l_{1} l_{2}^{2}} + \\frac{M g^{2} l_{2} m_{1} + g^{2} l_{1} m_{1} m_{2} + g^{2} l_{2} m_{1}^{2}}{M^{3} l_{1}^{2} l_{2}}\\\\\\frac{1}{M} & 0 & - \\frac{g m_{2}}{M^{2} l_{2}} - \\frac{g m_{1}}{M^{2} l_{1}} & 0 & \\frac{M g^{2} l_{1} m_{2} + g^{2} l_{1} m_{2}^{2} + g^{2} l_{2} m_{1} m_{2}}{M^{3} l_{1} l_{2}^{2}} + \\frac{M g^{2} l_{2} m_{1} + g^{2} l_{1} m_{1} m_{2} + g^{2} l_{2} m_{1}^{2}}{M^{3} l_{1}^{2} l_{2}} & 0\\\\0 & \\frac{1}{M l_{1}} & 0 & - \\frac{g m_{2}}{M^{2} l_{1} l_{2}} + \\frac{- M g - g m_{1}}{M^{2} l_{1}^{2}} & 0 & \\frac{M g^{2} l_{1} m_{2} + M g^{2} l_{2} m_{2} + g^{2} l_{1} m_{2}^{2} + g^{2} l_{2} m_{1} m_{2}}{M^{3} l_{1}^{2} l_{2}^{2}} + \\frac{M^{2} g^{2} l_{2} + 2 M g^{2} l_{2} m_{1} + g^{2} l_{1} m_{1} m_{2} + g^{2} l_{2} m_{1}^{2}}{M^{3} l_{1}^{3} l_{2}}\\\\\\frac{1}{M l_{1}} & 0 & - \\frac{g m_{2}}{M^{2} l_{1} l_{2}} + \\frac{- M g - g m_{1}}{M^{2} l_{1}^{2}} & 0 & \\frac{M g^{2} l_{1} m_{2} + M g^{2} l_{2} m_{2} + g^{2} l_{1} m_{2}^{2} + g^{2} l_{2} m_{1} m_{2}}{M^{3} l_{1}^{2} l_{2}^{2}} + \\frac{M^{2} g^{2} l_{2} + 2 M g^{2} l_{2} m_{1} + g^{2} l_{1} m_{1} m_{2} + g^{2} l_{2} m_{1}^{2}}{M^{3} l_{1}^{3} l_{2}} & 0\\\\0 & \\frac{1}{M l_{2}} & 0 & - \\frac{g m_{1}}{M^{2} l_{1} l_{2}} + \\frac{- M g - g m_{2}}{M^{2} l_{2}^{2}} & 0 & \\frac{M^{2} g^{2} l_{1} + 2 M g^{2} l_{1} m_{2} + g^{2} l_{1} m_{2}^{2} + g^{2} l_{2} m_{1} m_{2}}{M^{3} l_{1} l_{2}^{3}} + \\frac{M g^{2} l_{1} m_{1} + M g^{2} l_{2} m_{1} + g^{2} l_{1} m_{1} m_{2} + g^{2} l_{2} m_{1}^{2}}{M^{3} l_{1}^{2} l_{2}^{2}}\\\\\\frac{1}{M l_{2}} & 0 & - \\frac{g m_{1}}{M^{2} l_{1} l_{2}} + \\frac{- M g - g m_{2}}{M^{2} l_{2}^{2}} & 0 & \\frac{M^{2} g^{2} l_{1} + 2 M g^{2} l_{1} m_{2} + g^{2} l_{1} m_{2}^{2} + g^{2} l_{2} m_{1} m_{2}}{M^{3} l_{1} l_{2}^{3}} + \\frac{M g^{2} l_{1} m_{1} + M g^{2} l_{2} m_{1} + g^{2} l_{1} m_{1} m_{2} + g^{2} l_{2} m_{1}^{2}}{M^{3} l_{1}^{2} l_{2}^{2}} & 0\\end{matrix}\\right]$"
      ],
      "text/plain": [
       "Matrix([\n",
       "[       0,      1/M,                                               0,                -g*m2/(M**2*l2) - g*m1/(M**2*l1),                                                                                                                                                                  0,                                    (M*g**2*l1*m2 + g**2*l1*m2**2 + g**2*l2*m1*m2)/(M**3*l1*l2**2) + (M*g**2*l2*m1 + g**2*l1*m1*m2 + g**2*l2*m1**2)/(M**3*l1**2*l2)],\n",
       "[     1/M,        0,                -g*m2/(M**2*l2) - g*m1/(M**2*l1),                                               0,                                    (M*g**2*l1*m2 + g**2*l1*m2**2 + g**2*l2*m1*m2)/(M**3*l1*l2**2) + (M*g**2*l2*m1 + g**2*l1*m1*m2 + g**2*l2*m1**2)/(M**3*l1**2*l2),                                                                                                                                                                  0],\n",
       "[       0, 1/(M*l1),                                               0, -g*m2/(M**2*l1*l2) + (-M*g - g*m1)/(M**2*l1**2),                                                                                                                                                                  0, (M*g**2*l1*m2 + M*g**2*l2*m2 + g**2*l1*m2**2 + g**2*l2*m1*m2)/(M**3*l1**2*l2**2) + (M**2*g**2*l2 + 2*M*g**2*l2*m1 + g**2*l1*m1*m2 + g**2*l2*m1**2)/(M**3*l1**3*l2)],\n",
       "[1/(M*l1),        0, -g*m2/(M**2*l1*l2) + (-M*g - g*m1)/(M**2*l1**2),                                               0, (M*g**2*l1*m2 + M*g**2*l2*m2 + g**2*l1*m2**2 + g**2*l2*m1*m2)/(M**3*l1**2*l2**2) + (M**2*g**2*l2 + 2*M*g**2*l2*m1 + g**2*l1*m1*m2 + g**2*l2*m1**2)/(M**3*l1**3*l2),                                                                                                                                                                  0],\n",
       "[       0, 1/(M*l2),                                               0, -g*m1/(M**2*l1*l2) + (-M*g - g*m2)/(M**2*l2**2),                                                                                                                                                                  0, (M**2*g**2*l1 + 2*M*g**2*l1*m2 + g**2*l1*m2**2 + g**2*l2*m1*m2)/(M**3*l1*l2**3) + (M*g**2*l1*m1 + M*g**2*l2*m1 + g**2*l1*m1*m2 + g**2*l2*m1**2)/(M**3*l1**2*l2**2)],\n",
       "[1/(M*l2),        0, -g*m1/(M**2*l1*l2) + (-M*g - g*m2)/(M**2*l2**2),                                               0, (M**2*g**2*l1 + 2*M*g**2*l1*m2 + g**2*l1*m2**2 + g**2*l2*m1*m2)/(M**3*l1*l2**3) + (M*g**2*l1*m1 + M*g**2*l2*m1 + g**2*l1*m1*m2 + g**2*l2*m1**2)/(M**3*l1**2*l2**2),                                                                                                                                                                  0]])"
      ]
     },
     "execution_count": 4,
     "metadata": {},
     "output_type": "execute_result"
    }
   ],
   "source": [
    "# Constructing the controllability matrix\n",
    "Ct = sp.Matrix.hstack(B, A*B, A**2*B, A**3*B, A**4*B, A**5*B)\n",
    "print(\"Controllability Matrix: \")\n",
    "Ct"
   ]
  },
  {
   "cell_type": "code",
   "execution_count": 5,
   "metadata": {},
   "outputs": [
    {
     "name": "stdout",
     "output_type": "stream",
     "text": [
      "Determinant of the controllability matrix:\n"
     ]
    },
    {
     "data": {
      "text/latex": [
       "$\\displaystyle \\frac{g^{6} \\left(- l_{1}^{2} + 2 l_{1} l_{2} - l_{2}^{2}\\right)}{M^{6} l_{1}^{6} l_{2}^{6}}$"
      ],
      "text/plain": [
       "g**6*(-l1**2 + 2*l1*l2 - l2**2)/(M**6*l1**6*l2**6)"
      ]
     },
     "execution_count": 5,
     "metadata": {},
     "output_type": "execute_result"
    }
   ],
   "source": [
    "# Simplifying and finding the determinant of the controllability matrix\n",
    "det_Ct = sp.simplify(sp.det(Ct))\n",
    "print(\"Determinant of the controllability matrix:\")\n",
    "det_Ct"
   ]
  },
  {
   "cell_type": "code",
   "execution_count": 6,
   "metadata": {},
   "outputs": [
    {
     "name": "stdout",
     "output_type": "stream",
     "text": [
      "Rank of the controllability matrix:\n"
     ]
    },
    {
     "data": {
      "text/plain": [
       "6"
      ]
     },
     "execution_count": 6,
     "metadata": {},
     "output_type": "execute_result"
    }
   ],
   "source": [
    "# Displaying the rank of the controllability matrix\n",
    "rank_controllability = Ct.rank()\n",
    "print(\"Rank of the controllability matrix:\")\n",
    "rank_controllability"
   ]
  },
  {
   "cell_type": "code",
   "execution_count": 7,
   "metadata": {},
   "outputs": [
    {
     "name": "stdout",
     "output_type": "stream",
     "text": [
      "For l1 = l2, the Controllability matrix is:\n"
     ]
    },
    {
     "data": {
      "text/latex": [
       "$\\displaystyle \\left[\\begin{matrix}0 & \\frac{1}{M} & 0 & - \\frac{g m_{1}}{M^{2} l_{2}} - \\frac{g m_{2}}{M^{2} l_{2}} & 0 & \\frac{M g^{2} l_{2} m_{1} + g^{2} l_{2} m_{1}^{2} + g^{2} l_{2} m_{1} m_{2}}{M^{3} l_{2}^{3}} + \\frac{M g^{2} l_{2} m_{2} + g^{2} l_{2} m_{1} m_{2} + g^{2} l_{2} m_{2}^{2}}{M^{3} l_{2}^{3}}\\\\\\frac{1}{M} & 0 & - \\frac{g m_{1}}{M^{2} l_{2}} - \\frac{g m_{2}}{M^{2} l_{2}} & 0 & \\frac{M g^{2} l_{2} m_{1} + g^{2} l_{2} m_{1}^{2} + g^{2} l_{2} m_{1} m_{2}}{M^{3} l_{2}^{3}} + \\frac{M g^{2} l_{2} m_{2} + g^{2} l_{2} m_{1} m_{2} + g^{2} l_{2} m_{2}^{2}}{M^{3} l_{2}^{3}} & 0\\\\0 & \\frac{1}{M l_{2}} & 0 & - \\frac{g m_{2}}{M^{2} l_{2}^{2}} + \\frac{- M g - g m_{1}}{M^{2} l_{2}^{2}} & 0 & \\frac{2 M g^{2} l_{2} m_{2} + g^{2} l_{2} m_{1} m_{2} + g^{2} l_{2} m_{2}^{2}}{M^{3} l_{2}^{4}} + \\frac{M^{2} g^{2} l_{2} + 2 M g^{2} l_{2} m_{1} + g^{2} l_{2} m_{1}^{2} + g^{2} l_{2} m_{1} m_{2}}{M^{3} l_{2}^{4}}\\\\\\frac{1}{M l_{2}} & 0 & - \\frac{g m_{2}}{M^{2} l_{2}^{2}} + \\frac{- M g - g m_{1}}{M^{2} l_{2}^{2}} & 0 & \\frac{2 M g^{2} l_{2} m_{2} + g^{2} l_{2} m_{1} m_{2} + g^{2} l_{2} m_{2}^{2}}{M^{3} l_{2}^{4}} + \\frac{M^{2} g^{2} l_{2} + 2 M g^{2} l_{2} m_{1} + g^{2} l_{2} m_{1}^{2} + g^{2} l_{2} m_{1} m_{2}}{M^{3} l_{2}^{4}} & 0\\\\0 & \\frac{1}{M l_{2}} & 0 & - \\frac{g m_{1}}{M^{2} l_{2}^{2}} + \\frac{- M g - g m_{2}}{M^{2} l_{2}^{2}} & 0 & \\frac{2 M g^{2} l_{2} m_{1} + g^{2} l_{2} m_{1}^{2} + g^{2} l_{2} m_{1} m_{2}}{M^{3} l_{2}^{4}} + \\frac{M^{2} g^{2} l_{2} + 2 M g^{2} l_{2} m_{2} + g^{2} l_{2} m_{1} m_{2} + g^{2} l_{2} m_{2}^{2}}{M^{3} l_{2}^{4}}\\\\\\frac{1}{M l_{2}} & 0 & - \\frac{g m_{1}}{M^{2} l_{2}^{2}} + \\frac{- M g - g m_{2}}{M^{2} l_{2}^{2}} & 0 & \\frac{2 M g^{2} l_{2} m_{1} + g^{2} l_{2} m_{1}^{2} + g^{2} l_{2} m_{1} m_{2}}{M^{3} l_{2}^{4}} + \\frac{M^{2} g^{2} l_{2} + 2 M g^{2} l_{2} m_{2} + g^{2} l_{2} m_{1} m_{2} + g^{2} l_{2} m_{2}^{2}}{M^{3} l_{2}^{4}} & 0\\end{matrix}\\right]$"
      ],
      "text/plain": [
       "Matrix([\n",
       "[       0,      1/M,                                               0,                -g*m1/(M**2*l2) - g*m2/(M**2*l2),                                                                                                                                            0,                    (M*g**2*l2*m1 + g**2*l2*m1**2 + g**2*l2*m1*m2)/(M**3*l2**3) + (M*g**2*l2*m2 + g**2*l2*m1*m2 + g**2*l2*m2**2)/(M**3*l2**3)],\n",
       "[     1/M,        0,                -g*m1/(M**2*l2) - g*m2/(M**2*l2),                                               0,                    (M*g**2*l2*m1 + g**2*l2*m1**2 + g**2*l2*m1*m2)/(M**3*l2**3) + (M*g**2*l2*m2 + g**2*l2*m1*m2 + g**2*l2*m2**2)/(M**3*l2**3),                                                                                                                                            0],\n",
       "[       0, 1/(M*l2),                                               0, -g*m2/(M**2*l2**2) + (-M*g - g*m1)/(M**2*l2**2),                                                                                                                                            0, (2*M*g**2*l2*m2 + g**2*l2*m1*m2 + g**2*l2*m2**2)/(M**3*l2**4) + (M**2*g**2*l2 + 2*M*g**2*l2*m1 + g**2*l2*m1**2 + g**2*l2*m1*m2)/(M**3*l2**4)],\n",
       "[1/(M*l2),        0, -g*m2/(M**2*l2**2) + (-M*g - g*m1)/(M**2*l2**2),                                               0, (2*M*g**2*l2*m2 + g**2*l2*m1*m2 + g**2*l2*m2**2)/(M**3*l2**4) + (M**2*g**2*l2 + 2*M*g**2*l2*m1 + g**2*l2*m1**2 + g**2*l2*m1*m2)/(M**3*l2**4),                                                                                                                                            0],\n",
       "[       0, 1/(M*l2),                                               0, -g*m1/(M**2*l2**2) + (-M*g - g*m2)/(M**2*l2**2),                                                                                                                                            0, (2*M*g**2*l2*m1 + g**2*l2*m1**2 + g**2*l2*m1*m2)/(M**3*l2**4) + (M**2*g**2*l2 + 2*M*g**2*l2*m2 + g**2*l2*m1*m2 + g**2*l2*m2**2)/(M**3*l2**4)],\n",
       "[1/(M*l2),        0, -g*m1/(M**2*l2**2) + (-M*g - g*m2)/(M**2*l2**2),                                               0, (2*M*g**2*l2*m1 + g**2*l2*m1**2 + g**2*l2*m1*m2)/(M**3*l2**4) + (M**2*g**2*l2 + 2*M*g**2*l2*m2 + g**2*l2*m1*m2 + g**2*l2*m2**2)/(M**3*l2**4),                                                                                                                                            0]])"
      ]
     },
     "execution_count": 7,
     "metadata": {},
     "output_type": "execute_result"
    }
   ],
   "source": [
    "# Checking for special case where pendulum_length1 equals pendulum_length2\n",
    "Ct1 = Ct.subs(l1, l2)\n",
    "print(\"For l1 = l2, the Controllability matrix is:\")\n",
    "Ct1\n"
   ]
  },
  {
   "cell_type": "code",
   "execution_count": 8,
   "metadata": {},
   "outputs": [
    {
     "name": "stdout",
     "output_type": "stream",
     "text": [
      "Rank of the new matrix:\n"
     ]
    },
    {
     "data": {
      "text/plain": [
       "4"
      ]
     },
     "execution_count": 8,
     "metadata": {},
     "output_type": "execute_result"
    }
   ],
   "source": [
    "print(\"Rank of the new matrix:\")\n",
    "rank_Ct1 = Ct1.rank()\n",
    "rank_Ct1"
   ]
  },
  {
   "cell_type": "code",
   "execution_count": 9,
   "metadata": {},
   "outputs": [
    {
     "name": "stdout",
     "output_type": "stream",
     "text": [
      "System is not controllable as ranks are dissimilar.\n"
     ]
    }
   ],
   "source": [
    "# Displaying the system's controllability condition\n",
    "if rank_Ct1 == rank_controllability:\n",
    "    print(\"System is controllable as ranks are equal.\")\n",
    "else:\n",
    "    print(\"System is not controllable as ranks are dissimilar.\")"
   ]
  }
 ],
 "metadata": {
  "kernelspec": {
   "display_name": "Python 3",
   "language": "python",
   "name": "python3"
  },
  "language_info": {
   "codemirror_mode": {
    "name": "ipython",
    "version": 3
   },
   "file_extension": ".py",
   "mimetype": "text/x-python",
   "name": "python",
   "nbconvert_exporter": "python",
   "pygments_lexer": "ipython3",
   "version": "3.11.2"
  }
 },
 "nbformat": 4,
 "nbformat_minor": 2
}
