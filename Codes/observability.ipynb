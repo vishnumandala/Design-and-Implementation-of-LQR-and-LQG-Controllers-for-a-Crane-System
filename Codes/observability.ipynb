{
 "cells": [
  {
   "cell_type": "markdown",
   "metadata": {},
   "source": [
    "# Part E: Observability Check"
   ]
  },
  {
   "cell_type": "markdown",
   "metadata": {},
   "source": [
    "In this notebook, we will perform an observability analysis for a system described by its state-space representation. We define observability for various output matrices and determine if the system states can be observed from these outputs."
   ]
  },
  {
   "cell_type": "code",
   "execution_count": 1,
   "metadata": {},
   "outputs": [
    {
     "name": "stdout",
     "output_type": "stream",
     "text": [
      "Defaulting to user installation because normal site-packages is not writeable\n",
      "Requirement already satisfied: control in c:\\users\\manda\\appdata\\roaming\\python\\python311\\site-packages (0.9.4)\n",
      "Requirement already satisfied: numpy in c:\\program files\\python311\\lib\\site-packages (from control) (1.23.5)\n",
      "Requirement already satisfied: scipy>=1.3 in c:\\users\\manda\\appdata\\roaming\\python\\python311\\site-packages (from control) (1.10.1)\n",
      "Requirement already satisfied: matplotlib in c:\\users\\manda\\appdata\\roaming\\python\\python311\\site-packages (from control) (3.6.3)\n",
      "Requirement already satisfied: contourpy>=1.0.1 in c:\\users\\manda\\appdata\\roaming\\python\\python311\\site-packages (from matplotlib->control) (1.0.7)\n",
      "Requirement already satisfied: cycler>=0.10 in c:\\users\\manda\\appdata\\roaming\\python\\python311\\site-packages (from matplotlib->control) (0.11.0)\n",
      "Requirement already satisfied: fonttools>=4.22.0 in c:\\users\\manda\\appdata\\roaming\\python\\python311\\site-packages (from matplotlib->control) (4.38.0)\n",
      "Requirement already satisfied: kiwisolver>=1.0.1 in c:\\users\\manda\\appdata\\roaming\\python\\python311\\site-packages (from matplotlib->control) (1.4.4)\n",
      "Requirement already satisfied: packaging>=20.0 in c:\\users\\manda\\appdata\\roaming\\python\\python311\\site-packages (from matplotlib->control) (23.0)\n",
      "Requirement already satisfied: pillow>=6.2.0 in c:\\users\\manda\\appdata\\roaming\\python\\python311\\site-packages (from matplotlib->control) (9.4.0)\n",
      "Requirement already satisfied: pyparsing>=2.2.1 in c:\\users\\manda\\appdata\\roaming\\python\\python311\\site-packages (from matplotlib->control) (3.0.9)\n",
      "Requirement already satisfied: python-dateutil>=2.7 in c:\\users\\manda\\appdata\\roaming\\python\\python311\\site-packages (from matplotlib->control) (2.8.2)\n",
      "Requirement already satisfied: six>=1.5 in c:\\users\\manda\\appdata\\roaming\\python\\python311\\site-packages (from python-dateutil>=2.7->matplotlib->control) (1.16.0)\n"
     ]
    },
    {
     "name": "stderr",
     "output_type": "stream",
     "text": [
      "\n",
      "[notice] A new release of pip is available: 23.1.2 -> 23.3.2\n",
      "[notice] To update, run: python.exe -m pip install --upgrade pip\n"
     ]
    }
   ],
   "source": [
    "! pip install control\n",
    "import numpy as np\n",
    "import pandas as pd\n",
    "from IPython.display import HTML"
   ]
  },
  {
   "cell_type": "code",
   "execution_count": 2,
   "metadata": {},
   "outputs": [],
   "source": [
    "def observability_matrix(A, C):\n",
    "    \"\"\"\n",
    "    Compute the observability matrix for the system (A, C).\n",
    "    \"\"\"\n",
    "    obs_matrix = C\n",
    "    for i in range(1, A.shape[0]):\n",
    "        obs_matrix = np.vstack((obs_matrix, C @ np.linalg.matrix_power(A, i)))\n",
    "    return obs_matrix\n"
   ]
  },
  {
   "cell_type": "code",
   "execution_count": 3,
   "metadata": {},
   "outputs": [
    {
     "name": "stdout",
     "output_type": "stream",
     "text": [
      "A: \n"
     ]
    },
    {
     "data": {
      "text/plain": [
       "array([[ 0.     ,  1.     ,  0.     ,  0.     ,  0.     ,  0.     ],\n",
       "       [ 0.     ,  0.     , -0.981  ,  0.     , -0.981  ,  0.     ],\n",
       "       [ 0.     ,  0.     ,  0.     ,  1.     ,  0.     ,  0.     ],\n",
       "       [ 0.     ,  0.     , -0.53955,  0.     , -0.04905,  0.     ],\n",
       "       [ 0.     ,  0.     ,  0.     ,  0.     ,  0.     ,  1.     ],\n",
       "       [ 0.     ,  0.     , -0.0981 ,  0.     , -1.0791 ,  0.     ]])"
      ]
     },
     "execution_count": 3,
     "metadata": {},
     "output_type": "execute_result"
    }
   ],
   "source": [
    "# Define system parameters\n",
    "M = 1000\n",
    "mass_1 = 100\n",
    "mass_2 = 100\n",
    "length_1 = 20\n",
    "length_2 = 10\n",
    "g = 9.81\n",
    "\n",
    "# Define state space matrices A and B with the assigned values\n",
    "A = np.array([\n",
    "    [0, 1, 0, 0, 0, 0],\n",
    "    [0, 0, -(mass_1*g)/M, 0, -(mass_2*g)/M, 0],\n",
    "    [0, 0, 0, 1, 0, 0],\n",
    "    [0, 0, -((M+mass_1)*g)/(M*length_1), 0, -(mass_2*g)/(M*length_1), 0],\n",
    "    [0, 0, 0, 0, 0, 1],\n",
    "    [0, 0, -(mass_1*g)/(M*length_2), 0, -(g*(M+mass_2))/(M*length_2), 0]\n",
    "])\n",
    "print(\"A: \")\n",
    "A"
   ]
  },
  {
   "cell_type": "code",
   "execution_count": 4,
   "metadata": {},
   "outputs": [
    {
     "name": "stdout",
     "output_type": "stream",
     "text": [
      "B: \n"
     ]
    },
    {
     "data": {
      "text/plain": [
       "array([[0.e+00],\n",
       "       [1.e-03],\n",
       "       [0.e+00],\n",
       "       [5.e-05],\n",
       "       [0.e+00],\n",
       "       [1.e-04]])"
      ]
     },
     "execution_count": 4,
     "metadata": {},
     "output_type": "execute_result"
    }
   ],
   "source": [
    "# Defining the B matrix\n",
    "B = np.array([[0], [1/M], [0], [1/(M*length_1)], [0], [1/(M*length_2)]])\n",
    "print(\"B: \")\n",
    "B"
   ]
  },
  {
   "cell_type": "markdown",
   "metadata": {},
   "source": [
    "## Defining Output Matrices\n",
    "\n",
    "We define different output matrices `C` to observe various combinations of the system's states. The observability of the system is determined for each case.\n"
   ]
  },
  {
   "cell_type": "code",
   "execution_count": 5,
   "metadata": {},
   "outputs": [],
   "source": [
    "# Define different C matrices for various outputs\n",
    "C_matrices = {\n",
    "    r'x': np.array([[1, 0, 0, 0, 0, 0]]),\n",
    "    r'theta_1 and theta_2': np.array([[0, 0, 1, 0, 0, 0], [0, 0, 0, 1, 0, 0]]),\n",
    "    r'x and theta_2': np.array([[1, 0, 0, 0, 0, 0], [0, 0, 0, 0, 1, 0]]),\n",
    "    r'x, theta_1 and theta_2': np.array([[1, 0, 0, 0, 0, 0], [1, 0, 1, 0, 0, 0], [0, 0, 0, 0, 1, 0]])\n",
    "}"
   ]
  },
  {
   "cell_type": "code",
   "execution_count": 6,
   "metadata": {},
   "outputs": [
    {
     "data": {
      "text/html": [
       "<table border=\"1\" class=\"dataframe\">\n",
       "  <thead>\n",
       "    <tr style=\"text-align: right;\">\n",
       "      <th>Outputs</th>\n",
       "      <th>C Matrix</th>\n",
       "      <th>Rank</th>\n",
       "      <th>Observable</th>\n",
       "    </tr>\n",
       "  </thead>\n",
       "  <tbody>\n",
       "    <tr>\n",
       "      <td>x</td>\n",
       "      <td>[1 0 0 0 0 0]</td>\n",
       "      <td>6</td>\n",
       "      <td>Yes</td>\n",
       "    </tr>\n",
       "    <tr>\n",
       "      <td>theta_1 and theta_2</td>\n",
       "      <td>[0 0 1 0 0 0; 0 0 0 1 0 0]</td>\n",
       "      <td>4</td>\n",
       "      <td>No</td>\n",
       "    </tr>\n",
       "    <tr>\n",
       "      <td>x and theta_2</td>\n",
       "      <td>[1 0 0 0 0 0; 0 0 0 0 1 0]</td>\n",
       "      <td>6</td>\n",
       "      <td>Yes</td>\n",
       "    </tr>\n",
       "    <tr>\n",
       "      <td>x, theta_1 and theta_2</td>\n",
       "      <td>[1 0 0 0 0 0; 1 0 1 0 0 0; 0 0 0 0 1 0]</td>\n",
       "      <td>6</td>\n",
       "      <td>Yes</td>\n",
       "    </tr>\n",
       "  </tbody>\n",
       "</table>"
      ],
      "text/plain": [
       "<IPython.core.display.HTML object>"
      ]
     },
     "metadata": {},
     "output_type": "display_data"
    }
   ],
   "source": [
    "# Prepare data for the table\n",
    "table_data = []\n",
    "\n",
    "# Checking the observability for each C matrix and collecting data for the table\n",
    "for output, C_matrix in C_matrices.items():\n",
    "    O_matrix = observability_matrix(A, C_matrix)\n",
    "    rank = np.linalg.matrix_rank(O_matrix)\n",
    "    observable = \"Yes\" if rank == 6 else \"No\"\n",
    "    matrix_string = '[' + '; '.join(' '.join(str(int(num)) for num in row) for row in C_matrix) + ']'\n",
    "    table_data.append({\n",
    "        'Outputs': output,\n",
    "        'C Matrix': matrix_string,\n",
    "        'Rank': rank,\n",
    "        'Observable': observable\n",
    "    })\n",
    "\n",
    "# Create a pandas DataFrame\n",
    "df = pd.DataFrame(table_data)\n",
    "# Convert the DataFrame to HTML and allow raw HTML and LaTeX rendering\n",
    "html = df.to_html(escape=False, index=False)\n",
    "display(HTML(html))"
   ]
  }
 ],
 "metadata": {
  "kernelspec": {
   "display_name": "Python 3",
   "language": "python",
   "name": "python3"
  },
  "language_info": {
   "codemirror_mode": {
    "name": "ipython",
    "version": 3
   },
   "file_extension": ".py",
   "mimetype": "text/x-python",
   "name": "python",
   "nbconvert_exporter": "python",
   "pygments_lexer": "ipython3",
   "version": "3.11.2"
  }
 },
 "nbformat": 4,
 "nbformat_minor": 2
}
